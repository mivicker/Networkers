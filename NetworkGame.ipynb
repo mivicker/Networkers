{
 "cells": [
  {
   "cell_type": "code",
   "execution_count": 2,
   "metadata": {},
   "outputs": [],
   "source": [
    "from helpers import *"
   ]
  },
  {
   "cell_type": "code",
   "execution_count": 30,
   "metadata": {},
   "outputs": [],
   "source": [
    "#use a char rnn to generate names.\n",
    "#these are some examples of the datastructures, though in game they should be created through a generative process.\n",
    "customer_database = {\n",
    "    \"cindy\" : {\n",
    "        \"name\" : \"Cindy\",\n",
    "        \"location\" : (10, 20),\n",
    "        \"connection_need\" : 0.9,\n",
    "        \"interest\" : 0.5\n",
    "    },\n",
    "    \"lou\" : {\n",
    "        \"name\" : \"Lou\",\n",
    "        \"location\" : (20, 20),\n",
    "        \"connection_need\" : 0.3,\n",
    "        \"interest\" : 0.8\n",
    "    },\n",
    "    \"derrick\" : {\n",
    "        \"name\" : \"Derrick\",\n",
    "        \"location\" : (10, 20),\n",
    "        \"connection_need\" : 0.9,\n",
    "        \"interest\" : 0.5       \n",
    "    }\n",
    "}\n",
    "\n",
    "plots = {\n",
    "    (0,0) : {\n",
    "        \"address\" : \"737 Gladstone\",\n",
    "        \"occupant\" : \"Kristyn\",\n",
    "        \"edgepoints\" : [(-5,-5), (-5,5), (5,5), (5, -5)]\n",
    "    }\n",
    "}\n",
    "\n",
    "class dictCustomer(Customer):\n",
    "    def __init__(self, attr_dict):\n",
    "        self.__dict__ = attr_dict\n",
    "        self.enrolled = False"
   ]
  },
  {
   "cell_type": "code",
   "execution_count": 31,
   "metadata": {},
   "outputs": [],
   "source": [
    "test_cust = dictCustomer(customer_database[\"lou\"])\n",
    "customers = []\n",
    "customers.append(test_cust)"
   ]
  },
  {
   "cell_type": "code",
   "execution_count": 32,
   "metadata": {},
   "outputs": [],
   "source": [
    "customer_names = [\"Cindy\", \"Lou\", \"Derrick\"]\n",
    "customer_locations = [(10,20),(5,5),(40,90)]\n",
    "connection_needs = []\n",
    "nodes = []\n",
    "cindy = Customer(\"Cindy\", 0.5, 1, (10, 20))\n",
    "customers.append(cindy)"
   ]
  },
  {
   "cell_type": "code",
   "execution_count": 33,
   "metadata": {},
   "outputs": [
    {
     "data": {
      "text/plain": [
       "\"You're too far away.\""
      ]
     },
     "execution_count": 33,
     "metadata": {},
     "output_type": "execute_result"
    }
   ],
   "source": [
    "player = Player(\"Mike\", 2000, 0)\n",
    "player.approach_customer(test_cust)"
   ]
  },
  {
   "cell_type": "code",
   "execution_count": 34,
   "metadata": {},
   "outputs": [
    {
     "data": {
      "text/plain": [
       "(20, 20)"
      ]
     },
     "execution_count": 34,
     "metadata": {},
     "output_type": "execute_result"
    }
   ],
   "source": [
    "test_cust.location"
   ]
  },
  {
   "cell_type": "code",
   "execution_count": 35,
   "metadata": {},
   "outputs": [
    {
     "data": {
      "text/plain": [
       "[20, 20]"
      ]
     },
     "execution_count": 35,
     "metadata": {},
     "output_type": "execute_result"
    }
   ],
   "source": [
    "player.move([20,20])\n",
    "player.location"
   ]
  },
  {
   "cell_type": "code",
   "execution_count": 36,
   "metadata": {
    "scrolled": true
   },
   "outputs": [
    {
     "name": "stdout",
     "output_type": "stream",
     "text": [
      "Node set at: [20, 20]\n",
      "Mike: Would you like to sign up for our internet?\n",
      "Lou: Okay, yeah, hook me up!\n",
      "Lou was successfully connected at 100.0 percent power.\n"
     ]
    }
   ],
   "source": [
    "player.set_up_node(nodes, customers)\n",
    "player.approach_customer(test_cust)"
   ]
  },
  {
   "cell_type": "code",
   "execution_count": null,
   "metadata": {},
   "outputs": [],
   "source": [
    "def move_in(customer, plot):\n",
    "    endpoints = "
   ]
  }
 ],
 "metadata": {
  "kernelspec": {
   "display_name": "Python 3",
   "language": "python",
   "name": "python3"
  },
  "language_info": {
   "codemirror_mode": {
    "name": "ipython",
    "version": 3
   },
   "file_extension": ".py",
   "mimetype": "text/x-python",
   "name": "python",
   "nbconvert_exporter": "python",
   "pygments_lexer": "ipython3",
   "version": "3.6.7"
  }
 },
 "nbformat": 4,
 "nbformat_minor": 4
}
